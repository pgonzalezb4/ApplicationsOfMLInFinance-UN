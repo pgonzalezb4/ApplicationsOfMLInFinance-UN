{
 "cells": [
  {
   "cell_type": "markdown",
   "metadata": {},
   "source": [
    "### Import libraries"
   ]
  },
  {
   "cell_type": "code",
   "execution_count": 1,
   "metadata": {},
   "outputs": [],
   "source": [
    "import numpy as np\n",
    "import pandas as pd\n",
    "\n",
    "from sklearn.linear_model import LinearRegression\n",
    "from sklearn.metrics import mean_squared_error as mse"
   ]
  },
  {
   "cell_type": "markdown",
   "metadata": {},
   "source": [
    "### Read data"
   ]
  },
  {
   "cell_type": "code",
   "execution_count": 2,
   "metadata": {},
   "outputs": [
    {
     "data": {
      "text/plain": [
       "(3400, 13)"
      ]
     },
     "execution_count": 2,
     "metadata": {},
     "output_type": "execute_result"
    }
   ],
   "source": [
    "data = pd.read_csv('medmal_pos.csv')\n",
    "data.shape"
   ]
  },
  {
   "cell_type": "markdown",
   "metadata": {},
   "source": [
    "### Transform data into development triangles, grouped by insurance company"
   ]
  },
  {
   "cell_type": "code",
   "execution_count": 3,
   "metadata": {},
   "outputs": [],
   "source": [
    "train_development_triangles = {}\n",
    "\n",
    "for insurance_company in data.GRNAME.unique():\n",
    "    insurance_company_filtered_data = data[data.GRNAME == insurance_company].copy()\n",
    "\n",
    "    temp_data = []\n",
    "    n_of_accident_year = 0\n",
    "    for accident_year in insurance_company_filtered_data.AccidentYear.unique():\n",
    "        year_filtered_df = insurance_company_filtered_data[insurance_company_filtered_data.AccidentYear == accident_year].copy()\n",
    "        row_df = year_filtered_df[['IncurLoss_F2']].iloc[:10 - n_of_accident_year].T\n",
    "        row_df.columns = [f'lag_{k}' for k in list(range(1, row_df.shape[1] + 1))]\n",
    "        row_df.index = [accident_year]\n",
    "        temp_data.append(row_df)\n",
    "        n_of_accident_year += 1\n",
    "\n",
    "    train_development_triangles[insurance_company] = pd.concat(temp_data)"
   ]
  },
  {
   "cell_type": "code",
   "execution_count": 4,
   "metadata": {},
   "outputs": [],
   "source": [
    "test_development_triangles = {}\n",
    "\n",
    "for insurance_company in data.GRNAME.unique():\n",
    "    insurance_company_filtered_data = data[data.GRNAME == insurance_company].copy()\n",
    "    years = insurance_company_filtered_data.AccidentYear.unique()\n",
    "    temp_data = []\n",
    "    for i in range(1, len(years)):\n",
    "        year_filtered_df = insurance_company_filtered_data[insurance_company_filtered_data.AccidentYear == years[i]].copy()\n",
    "        row_df = [np.nan] * (10 - i) + year_filtered_df['IncurLoss_F2'].iloc[-i:].tolist()\n",
    "        temp_data.append(row_df)\n",
    "\n",
    "    test_development_triangles[insurance_company] = pd.DataFrame(temp_data, columns=[f'lag_{k}' for k in range(1, 11)], index=years[1:])"
   ]
  },
  {
   "cell_type": "code",
   "execution_count": 12,
   "metadata": {},
   "outputs": [],
   "source": [
    "scores = {\n",
    "        'one_step_reg' : [],\n",
    "        'two_step_reg' : [],\n",
    "        'three_step_reg' : [],\n",
    "        'four_step_reg' : [],\n",
    "        'five_step_reg' : [],\n",
    "        'six_step_reg' : [],\n",
    "        'seven_step_reg' : [],\n",
    "        'eight_step_reg' : [],\n",
    "        'nine_step_reg' : [],\n",
    "    }\n",
    "\n",
    "for insurance_company in data.GRNAME.unique():\n",
    "    train_dt = train_development_triangles[insurance_company]\n",
    "    train_dt = train_dt.replace(0, 0.1)\n",
    "    test_dt = test_development_triangles[insurance_company]\n",
    "\n",
    "    factors = []\n",
    "\n",
    "    for lag_num in range(1, len(train_dt.columns)):\n",
    "        factor = train_dt[f'lag_{lag_num+1}'].sum()/train_dt[f'lag_{lag_num}'][:-lag_num].sum()\n",
    "        factors.append(factor)\n",
    "    \n",
    "    dev_period = np.array([(i+1) for i in range(9)])\n",
    "    model = LinearRegression().fit(dev_period.reshape(-1, 1), factors)\n",
    "    tail = np.array([(i+10) for i in range(101)])\n",
    "    tail = np.exp(model.intercept_ + model.coef_ * tail) + 1\n",
    "    tail_factor = tail.prod()\n",
    "\n",
    "    aux_copy = train_dt.copy()\n",
    "\n",
    "    for i, col in enumerate(aux_copy.columns[1:]):\n",
    "        for j in range(i + 1):\n",
    "            aux_copy[col].at[aux_copy.index[-1] - j] = factors[i] * aux_copy.iloc[:, list(aux_copy.columns).index(col)-1].at[aux_copy.index[-1] - j]\n",
    "\n",
    "    aux_copy = np.round(aux_copy)\n",
    "\n",
    "    pred_dt = pd.DataFrame(np.nan, index=list(range(1989, 1998)), columns=[f'lag_{k}' for k in range(1, 11)])\n",
    "\n",
    "    for i, col in enumerate(aux_copy.columns[1:]):\n",
    "        for j in range(i + 1):\n",
    "            pred_dt[col].at[pred_dt.index[-1] - j] = factors[i] * aux_copy.iloc[:, list(aux_copy.columns).index(col)-1].at[aux_copy.index[-1] - j]\n",
    "\n",
    "    pred_dt = np.round(pred_dt)\n",
    "\n",
    "    for i in range(9):\n",
    "        pred_vals = np.array(pred_dt.iloc[i, (10-(i+1)):])\n",
    "        test_vals = np.array(test_dt.iloc[i, (10-(i+1)):])\n",
    "        scores[list(scores.keys())[i]].append(mse(test_vals, pred_vals, squared=False))"
   ]
  },
  {
   "cell_type": "code",
   "execution_count": 7,
   "metadata": {},
   "outputs": [],
   "source": [
    "for step_reg in scores:\n",
    "    scores[step_reg] = np.mean(scores[step_reg])"
   ]
  },
  {
   "cell_type": "code",
   "execution_count": 9,
   "metadata": {},
   "outputs": [],
   "source": [
    "scores_df = pd.DataFrame([scores]).T\n",
    "scores_df.columns = ['rmse']"
   ]
  },
  {
   "cell_type": "code",
   "execution_count": 10,
   "metadata": {},
   "outputs": [
    {
     "data": {
      "text/html": [
       "<div>\n",
       "<style scoped>\n",
       "    .dataframe tbody tr th:only-of-type {\n",
       "        vertical-align: middle;\n",
       "    }\n",
       "\n",
       "    .dataframe tbody tr th {\n",
       "        vertical-align: top;\n",
       "    }\n",
       "\n",
       "    .dataframe thead th {\n",
       "        text-align: right;\n",
       "    }\n",
       "</style>\n",
       "<table border=\"1\" class=\"dataframe\">\n",
       "  <thead>\n",
       "    <tr style=\"text-align: right;\">\n",
       "      <th></th>\n",
       "      <th>rmse</th>\n",
       "    </tr>\n",
       "  </thead>\n",
       "  <tbody>\n",
       "    <tr>\n",
       "      <th>one_step_reg</th>\n",
       "      <td>335.411765</td>\n",
       "    </tr>\n",
       "    <tr>\n",
       "      <th>two_step_reg</th>\n",
       "      <td>290.607580</td>\n",
       "    </tr>\n",
       "    <tr>\n",
       "      <th>three_step_reg</th>\n",
       "      <td>392.446891</td>\n",
       "    </tr>\n",
       "    <tr>\n",
       "      <th>four_step_reg</th>\n",
       "      <td>437.636151</td>\n",
       "    </tr>\n",
       "    <tr>\n",
       "      <th>five_step_reg</th>\n",
       "      <td>943.049000</td>\n",
       "    </tr>\n",
       "    <tr>\n",
       "      <th>six_step_reg</th>\n",
       "      <td>1395.223931</td>\n",
       "    </tr>\n",
       "    <tr>\n",
       "      <th>seven_step_reg</th>\n",
       "      <td>1539.779723</td>\n",
       "    </tr>\n",
       "    <tr>\n",
       "      <th>eight_step_reg</th>\n",
       "      <td>1771.657520</td>\n",
       "    </tr>\n",
       "    <tr>\n",
       "      <th>nine_step_reg</th>\n",
       "      <td>3079.343258</td>\n",
       "    </tr>\n",
       "  </tbody>\n",
       "</table>\n",
       "</div>"
      ],
      "text/plain": [
       "                       rmse\n",
       "one_step_reg     335.411765\n",
       "two_step_reg     290.607580\n",
       "three_step_reg   392.446891\n",
       "four_step_reg    437.636151\n",
       "five_step_reg    943.049000\n",
       "six_step_reg    1395.223931\n",
       "seven_step_reg  1539.779723\n",
       "eight_step_reg  1771.657520\n",
       "nine_step_reg   3079.343258"
      ]
     },
     "execution_count": 10,
     "metadata": {},
     "output_type": "execute_result"
    }
   ],
   "source": [
    "scores_df"
   ]
  },
  {
   "cell_type": "code",
   "execution_count": null,
   "metadata": {},
   "outputs": [],
   "source": []
  }
 ],
 "metadata": {
  "kernelspec": {
   "display_name": "unal",
   "language": "python",
   "name": "python3"
  },
  "language_info": {
   "codemirror_mode": {
    "name": "ipython",
    "version": 3
   },
   "file_extension": ".py",
   "mimetype": "text/x-python",
   "name": "python",
   "nbconvert_exporter": "python",
   "pygments_lexer": "ipython3",
   "version": "3.10.13"
  },
  "orig_nbformat": 4
 },
 "nbformat": 4,
 "nbformat_minor": 2
}
