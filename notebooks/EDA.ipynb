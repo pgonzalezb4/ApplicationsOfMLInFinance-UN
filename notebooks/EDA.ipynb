{
 "cells": [
  {
   "cell_type": "markdown",
   "source": [
    "## Exploratory data analysis\n",
    "#### Pablo Gonzalez B."
   ],
   "metadata": {
    "collapsed": false
   },
   "id": "68ccd6dd4fc8a282"
  },
  {
   "cell_type": "markdown",
   "source": [
    "### Variable Description\n",
    "\n",
    "`GRCODE NAIC` company code (including insurer groups and single insurers)\n",
    "\n",
    "`GRNAME NAIC` company name (including insurer groups and single insurers)\n",
    "\n",
    "`AccidentYear` Accident year(1988 to 1997)\n",
    "\n",
    "`DevelopmentYear` Development year (1988 to 1997)\n",
    "\n",
    "`DevelopmentLag` Development year (AY-1987 + DY-1987 - 1)\n",
    "\n",
    "`IncurLoss_` Incurred losses and allocated expenses reported at year end\n",
    "\n",
    "`CumPaidLoss_` Cumulative paid losses and allocated expenses at year end\n",
    "\n",
    "`BulkLoss_` Bulk and IBNR reserves on net losses and defense and cost containment expenses reported at year end\n",
    "\n",
    "`PostedReserve97_` Posted reserves in year 1997 taken from the Underwriting and Investment Exhibit – Part 2A, including net losses unpaid and unpaid loss adjustment expenses\n",
    "\n",
    "`EarnedPremDIR_` Premiums earned at incurral year - direct and assumed\n",
    "\n",
    "`EarnedPremCeded_` Premiums earned at incurral year - ceded\n",
    "\n",
    "`EarnedPremNet_` Premiums earned at incurral year - net\n",
    "\n",
    "`Single` 1 indicates a single entity, 0 indicates a group insurer"
   ],
   "metadata": {
    "collapsed": false
   },
   "id": "e84f3eeda967bf8b"
  },
  {
   "cell_type": "markdown",
   "source": [
    "### Import libraries"
   ],
   "metadata": {
    "collapsed": false
   },
   "id": "f54699ddd335f52"
  },
  {
   "cell_type": "code",
   "execution_count": null,
   "outputs": [],
   "source": [
    "import numpy as np\n",
    "import pandas as pd\n",
    "import seaborn as sns\n",
    "import matplotlib.pyplot as plt"
   ],
   "metadata": {
    "collapsed": false
   },
   "id": "3cdad7a7437c8e15"
  },
  {
   "cell_type": "markdown",
   "source": [
    "### Read data"
   ],
   "metadata": {
    "collapsed": false
   },
   "id": "3d8e14ceee9dd39b"
  },
  {
   "cell_type": "code",
   "execution_count": null,
   "outputs": [],
   "source": [
    "data = pd.read_csv('medmal_pos.csv')\n",
    "data.shape"
   ],
   "metadata": {
    "collapsed": false
   },
   "id": "e4fdc322a4c5705d"
  },
  {
   "cell_type": "markdown",
   "source": [
    "### Descriptive statistics, dtypes and non-null count"
   ],
   "metadata": {
    "collapsed": false
   },
   "id": "4bfffdd978936a72"
  },
  {
   "cell_type": "code",
   "execution_count": null,
   "outputs": [],
   "source": [
    "data.describe()"
   ],
   "metadata": {
    "collapsed": false
   },
   "id": "67e6932ceef6c5f2"
  },
  {
   "cell_type": "code",
   "execution_count": null,
   "outputs": [],
   "source": [
    "data.info()"
   ],
   "metadata": {
    "collapsed": false
   },
   "id": "3ee8195e09a2d206"
  },
  {
   "cell_type": "code",
   "execution_count": null,
   "outputs": [],
   "source": [
    "numeric_features = data.select_dtypes(include=['int64', 'float64']).columns.tolist()\n",
    "non_numeric_features = data.select_dtypes(include=['object']).columns.tolist()\n",
    "\n",
    "print(f'Numeric columns: {len(numeric_features)}, Non-numeric columns: {len(non_numeric_features)}')"
   ],
   "metadata": {
    "collapsed": false
   },
   "id": "5490c2aa52d54232"
  },
  {
   "cell_type": "code",
   "execution_count": null,
   "outputs": [],
   "source": [
    "data[non_numeric_features[0]].unique()"
   ],
   "metadata": {
    "collapsed": false
   },
   "id": "21f6f1d6a812972"
  },
  {
   "cell_type": "markdown",
   "source": [
    "### Outliers analysis and distribution of numerical features"
   ],
   "metadata": {
    "collapsed": false
   },
   "id": "2c5634d78a36b93d"
  },
  {
   "cell_type": "code",
   "execution_count": null,
   "outputs": [],
   "source": [
    "plt.rcParams['figure.figsize'] = (26, 13)\n",
    "sns.boxplot(data[numeric_features], orient=\"h\");"
   ],
   "metadata": {
    "collapsed": false
   },
   "id": "61656c574771fe2e"
  },
  {
   "cell_type": "code",
   "execution_count": null,
   "outputs": [],
   "source": [
    "plt.rcParams['figure.figsize'] = (26, 4 * len(numeric_features))\n",
    "fig, axes = plt.subplots(len(numeric_features), 1)\n",
    "\n",
    "for i in range(len(axes)):\n",
    "    sns.histplot(data=data, x=numeric_features[i], kde=True, legend=True, ax=axes[i])\n",
    "plt.show();"
   ],
   "metadata": {
    "collapsed": false
   },
   "id": "e251cc0dae27feae"
  },
  {
   "cell_type": "markdown",
   "source": [
    "### Correlations between numerical features"
   ],
   "metadata": {
    "collapsed": false
   },
   "id": "774a1dafe0d2ccf"
  },
  {
   "cell_type": "code",
   "execution_count": null,
   "outputs": [],
   "source": [
    "plt.rcParams['figure.figsize'] = (22, 7)\n",
    "sns.heatmap(data[numeric_features].corr(method='spearman'), annot=True);"
   ],
   "metadata": {
    "collapsed": false
   },
   "id": "279093ec2b3545ae"
  },
  {
   "cell_type": "markdown",
   "source": [
    "### Scatterplot of relevant correlations grouped by `AccidentYear`"
   ],
   "metadata": {
    "collapsed": false
   },
   "id": "4f3817ee63ff9a86"
  },
  {
   "cell_type": "code",
   "execution_count": null,
   "outputs": [],
   "source": [
    "plt.rcParams['figure.figsize'] = (18, 7)\n",
    "sns.scatterplot(data=data, x='IncurLoss_F2', y='PostedReserve97_F2', hue='AccidentYear');"
   ],
   "metadata": {
    "collapsed": false
   },
   "id": "887f5d4e50737a8e"
  },
  {
   "cell_type": "code",
   "execution_count": null,
   "outputs": [],
   "source": [
    "sns.scatterplot(data=data, x='IncurLoss_F2', y='EarnedPremNet_F2', hue='AccidentYear');"
   ],
   "metadata": {
    "collapsed": false
   },
   "id": "39e4765815e6eef"
  },
  {
   "cell_type": "code",
   "execution_count": null,
   "outputs": [],
   "source": [
    "sns.scatterplot(data=data, x='EarnedPremNet_F2', y='PostedReserve97_F2', hue='AccidentYear');"
   ],
   "metadata": {
    "collapsed": false
   },
   "id": "b9b6f905abd818a5"
  },
  {
   "cell_type": "code",
   "execution_count": null,
   "outputs": [],
   "source": [],
   "metadata": {
    "collapsed": false
   },
   "id": "4bb141f090d895b2"
  }
 ],
 "metadata": {
  "kernelspec": {
   "display_name": "Python 3",
   "language": "python",
   "name": "python3"
  },
  "language_info": {
   "codemirror_mode": {
    "name": "ipython",
    "version": 2
   },
   "file_extension": ".py",
   "mimetype": "text/x-python",
   "name": "python",
   "nbconvert_exporter": "python",
   "pygments_lexer": "ipython2",
   "version": "2.7.6"
  }
 },
 "nbformat": 4,
 "nbformat_minor": 5
}
