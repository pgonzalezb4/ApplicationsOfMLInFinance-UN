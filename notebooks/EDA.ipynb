{
 "cells": [
  {
   "cell_type": "markdown",
   "id": "68ccd6dd4fc8a282",
   "metadata": {
    "collapsed": false
   },
   "source": [
    "## Exploratory data analysis\n",
    "#### Pablo Gonzalez B."
   ]
  },
  {
   "cell_type": "markdown",
   "id": "e84f3eeda967bf8b",
   "metadata": {
    "collapsed": false
   },
   "source": [
    "### Variable Description\n",
    "\n",
    "`GRCODE NAIC` company code (including insurer groups and single insurers)\n",
    "\n",
    "`GRNAME NAIC` company name (including insurer groups and single insurers)\n",
    "\n",
    "`AccidentYear` Accident year(1988 to 1997)\n",
    "\n",
    "`DevelopmentYear` Development year (1988 to 1997)\n",
    "\n",
    "`DevelopmentLag` Development year (AY-1987 + DY-1987 - 1)\n",
    "\n",
    "`IncurLoss_` Incurred losses and allocated expenses reported at year end\n",
    "\n",
    "`CumPaidLoss_` Cumulative paid losses and allocated expenses at year end\n",
    "\n",
    "`BulkLoss_` Bulk and IBNR reserves on net losses and defense and cost containment expenses reported at year end\n",
    "\n",
    "`PostedReserve97_` Posted reserves in year 1997 taken from the Underwriting and Investment Exhibit – Part 2A, including net losses unpaid and unpaid loss adjustment expenses\n",
    "\n",
    "`EarnedPremDIR_` Premiums earned at incurral year - direct and assumed\n",
    "\n",
    "`EarnedPremCeded_` Premiums earned at incurral year - ceded\n",
    "\n",
    "`EarnedPremNet_` Premiums earned at incurral year - net\n",
    "\n",
    "`Single` 1 indicates a single entity, 0 indicates a group insurer"
   ]
  },
  {
   "cell_type": "markdown",
   "id": "f54699ddd335f52",
   "metadata": {
    "collapsed": false
   },
   "source": [
    "### Import libraries"
   ]
  },
  {
   "cell_type": "code",
   "execution_count": null,
   "id": "3cdad7a7437c8e15",
   "metadata": {
    "collapsed": false
   },
   "outputs": [],
   "source": [
    "import matplotlib\n",
    "import numpy as np\n",
    "import pandas as pd\n",
    "import seaborn as sns\n",
    "import matplotlib.pyplot as plt\n",
    "\n",
    "matplotlib.rcParams.update({'font.size': 22})"
   ]
  },
  {
   "cell_type": "markdown",
   "id": "3d8e14ceee9dd39b",
   "metadata": {
    "collapsed": false
   },
   "source": [
    "### Read data"
   ]
  },
  {
   "cell_type": "code",
   "execution_count": null,
   "id": "e4fdc322a4c5705d",
   "metadata": {
    "collapsed": false
   },
   "outputs": [],
   "source": [
    "data = pd.read_csv('medmal_pos.csv')\n",
    "data.shape"
   ]
  },
  {
   "cell_type": "markdown",
   "id": "4bfffdd978936a72",
   "metadata": {
    "collapsed": false
   },
   "source": [
    "### Descriptive statistics, dtypes and non-null count"
   ]
  },
  {
   "cell_type": "code",
   "execution_count": null,
   "id": "67e6932ceef6c5f2",
   "metadata": {
    "collapsed": false
   },
   "outputs": [],
   "source": [
    "data.describe()"
   ]
  },
  {
   "cell_type": "code",
   "execution_count": null,
   "id": "3ee8195e09a2d206",
   "metadata": {
    "collapsed": false
   },
   "outputs": [],
   "source": [
    "data.info()"
   ]
  },
  {
   "cell_type": "code",
   "execution_count": null,
   "id": "5490c2aa52d54232",
   "metadata": {
    "collapsed": false
   },
   "outputs": [],
   "source": [
    "numeric_features = data.select_dtypes(include=['int64', 'float64']).columns.tolist()\n",
    "non_numeric_features = data.select_dtypes(include=['object']).columns.tolist()\n",
    "\n",
    "print(f'Numeric columns: {len(numeric_features)}, Non-numeric columns: {len(non_numeric_features)}')"
   ]
  },
  {
   "cell_type": "code",
   "execution_count": null,
   "id": "21f6f1d6a812972",
   "metadata": {
    "collapsed": false
   },
   "outputs": [],
   "source": [
    "data[non_numeric_features[0]].unique()"
   ]
  },
  {
   "cell_type": "markdown",
   "id": "2c5634d78a36b93d",
   "metadata": {
    "collapsed": false
   },
   "source": [
    "### Outliers analysis and distribution of numerical features"
   ]
  },
  {
   "cell_type": "code",
   "execution_count": null,
   "id": "61656c574771fe2e",
   "metadata": {
    "collapsed": false
   },
   "outputs": [],
   "source": [
    "plt.rcParams['figure.figsize'] = (26, 13)\n",
    "sns.boxplot(data[numeric_features], orient=\"h\")\n",
    "plt.grid()\n",
    "plt.title('Distribución de las features numéricas');"
   ]
  },
  {
   "cell_type": "code",
   "execution_count": null,
   "id": "e251cc0dae27feae",
   "metadata": {
    "collapsed": false
   },
   "outputs": [],
   "source": [
    "plt.rcParams['figure.figsize'] = (26, 4 * len(numeric_features))\n",
    "fig, axes = plt.subplots(len(numeric_features), 1)\n",
    "fig.tight_layout()\n",
    "\n",
    "for i in range(len(axes)):\n",
    "    sns.histplot(data=data, x=numeric_features[i], kde=True, legend=True, ax=axes[i])\n",
    "plt.show();"
   ]
  },
  {
   "cell_type": "markdown",
   "id": "774a1dafe0d2ccf",
   "metadata": {
    "collapsed": false
   },
   "source": [
    "### Correlations between numerical features"
   ]
  },
  {
   "cell_type": "code",
   "execution_count": null,
   "id": "279093ec2b3545ae",
   "metadata": {
    "collapsed": false
   },
   "outputs": [],
   "source": [
    "matplotlib.rcParams.update({'font.size': 22})\n",
    "plt.rcParams['figure.figsize'] = (22, 22)\n",
    "sns.heatmap(data[numeric_features].corr(method='spearman'), annot=True);"
   ]
  },
  {
   "cell_type": "markdown",
   "id": "4f3817ee63ff9a86",
   "metadata": {
    "collapsed": false
   },
   "source": [
    "### Scatterplot of relevant correlations grouped by `AccidentYear`"
   ]
  },
  {
   "cell_type": "code",
   "execution_count": null,
   "id": "db6da585",
   "metadata": {},
   "outputs": [],
   "source": [
    "matplotlib.rcParams.update({'font.size': 16})"
   ]
  },
  {
   "cell_type": "code",
   "execution_count": null,
   "id": "887f5d4e50737a8e",
   "metadata": {
    "collapsed": false
   },
   "outputs": [],
   "source": [
    "plt.rcParams['figure.figsize'] = (18, 7)\n",
    "sns.scatterplot(data=data, x='IncurLoss_F2', y='PostedReserve97_F2', hue='AccidentYear');"
   ]
  },
  {
   "cell_type": "code",
   "execution_count": null,
   "id": "39e4765815e6eef",
   "metadata": {
    "collapsed": false
   },
   "outputs": [],
   "source": [
    "sns.scatterplot(data=data, x='IncurLoss_F2', y='EarnedPremNet_F2', hue='AccidentYear');"
   ]
  },
  {
   "cell_type": "code",
   "execution_count": null,
   "id": "b9b6f905abd818a5",
   "metadata": {
    "collapsed": false
   },
   "outputs": [],
   "source": [
    "sns.scatterplot(data=data, x='EarnedPremNet_F2', y='PostedReserve97_F2', hue='AccidentYear');"
   ]
  },
  {
   "cell_type": "code",
   "execution_count": null,
   "id": "4bb141f090d895b2",
   "metadata": {
    "collapsed": false
   },
   "outputs": [],
   "source": []
  }
 ],
 "metadata": {
  "kernelspec": {
   "display_name": "Python 3",
   "language": "python",
   "name": "python3"
  },
  "language_info": {
   "codemirror_mode": {
    "name": "ipython",
    "version": 3
   },
   "file_extension": ".py",
   "mimetype": "text/x-python",
   "name": "python",
   "nbconvert_exporter": "python",
   "pygments_lexer": "ipython3",
   "version": "3.10.13"
  }
 },
 "nbformat": 4,
 "nbformat_minor": 5
}
