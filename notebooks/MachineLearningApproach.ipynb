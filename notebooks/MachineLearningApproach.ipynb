{
 "cells": [
  {
   "cell_type": "code",
   "execution_count": 1,
   "metadata": {},
   "outputs": [],
   "source": [
    "import numpy as np\n",
    "import pandas as pd\n",
    "\n",
    "from xgboost import XGBRegressor\n",
    "from sklearn.multioutput import MultiOutputRegressor\n",
    "from sklearn.metrics import mean_absolute_percentage_error as mape"
   ]
  },
  {
   "cell_type": "code",
   "execution_count": 2,
   "metadata": {},
   "outputs": [
    {
     "data": {
      "text/plain": [
       "(3400, 13)"
      ]
     },
     "execution_count": 2,
     "metadata": {},
     "output_type": "execute_result"
    }
   ],
   "source": [
    "data = pd.read_csv('medmal_pos.csv')\n",
    "data.shape"
   ]
  },
  {
   "cell_type": "code",
   "execution_count": 29,
   "metadata": {},
   "outputs": [],
   "source": [
    "insurances = data.GRNAME.unique()\n",
    "\n",
    "test_insurances = ['Dentists Ins Co', 'Physicians Recip Insurers', 'Louisiana Med Mut Ins Co', 'Clinic Mut Ins Co RRG', 'California Healthcare Ins Co Inc']\n",
    "train_insurances = [insurance for insurance in insurances if insurance not in test_insurances]"
   ]
  },
  {
   "cell_type": "code",
   "execution_count": 52,
   "metadata": {},
   "outputs": [],
   "source": [
    "development_triangles = {}\n",
    "\n",
    "for insurance_company in insurances:\n",
    "    insurance_company_filtered_data = data[data.GRNAME == insurance_company].copy()\n",
    "\n",
    "    temp_data = []\n",
    "    n_of_accident_year = 0\n",
    "    for accident_year in insurance_company_filtered_data.AccidentYear.unique():\n",
    "        year_filtered_df = insurance_company_filtered_data[insurance_company_filtered_data.AccidentYear == accident_year].copy()\n",
    "        row_df = year_filtered_df[['IncurLoss_F2']].iloc[:].T\n",
    "        row_df.columns = [f'lag_{k}' for k in list(range(1, row_df.shape[1] + 1))]\n",
    "        row_df.index = [accident_year]\n",
    "        temp_data.append(row_df)\n",
    "        n_of_accident_year += 1\n",
    "\n",
    "    development_triangles[insurance_company] = pd.concat(temp_data)"
   ]
  },
  {
   "cell_type": "code",
   "execution_count": 53,
   "metadata": {},
   "outputs": [
    {
     "name": "stdout",
     "output_type": "stream",
     "text": [
      "Scpie Indemnity Co\n",
      "Promutual Grp\n",
      "Great Amer Grp\n",
      "Nationwide Grp\n",
      "Markel Corp Grp\n",
      "Overseas Partners Us Reins Co\n",
      "Eastern Dentists Ins Co RRG\n",
      "American Assoc Of Othodontists RRG\n",
      "Controlled Risk Ins Co Of VT Inc\n",
      "Texas Medical Ins Co\n",
      "MCIC VT Inc RRG\n",
      "Franklin Cas Ins Co RRG\n",
      "Homestead Ins Co\n",
      "Campmed Cas & Ind Co Inc MD\n",
      "Community Blood Cntr Exch RRG\n",
      "Underwriters At Lloyds London\n",
      "NCMIC Ins Co\n",
      "National American Ins Co\n",
      "Michigan Professional Ins Exch\n",
      "Nichido Fire & Marine Ins Co Ltd\n",
      "Texas Hospital Ins Exch\n",
      "State Volunteer Mut Ins Co\n",
      "MHA Ins Co\n",
      "Health Care Ind Inc\n",
      "National Guardian RRG Inc\n",
      "Preferred Professional Ins Co\n",
      "Medical Mut Ins Co Of ME\n",
      "Utah Medical Ins Assoc\n",
      "Seguros Triples Inc\n",
      "Dentists Ins Co\n",
      "Physicians Recip Insurers\n",
      "Louisiana Med Mut Ins Co\n",
      "Clinic Mut Ins Co RRG\n",
      "California Healthcare Ins Co Inc\n"
     ]
    }
   ],
   "source": [
    "X_y_data = {\n",
    "    'one_step_reg' : {'X': [], 'y': []},\n",
    "    'two_step_reg' : {'X': [], 'y': []},\n",
    "    'three_step_reg' : {'X': [], 'y': []},\n",
    "    'four_step_reg' : {'X': [], 'y': []},\n",
    "    'five_step_reg' : {'X': [], 'y': []},\n",
    "    'six_step_reg' : {'X': [], 'y': []},\n",
    "    'seven_step_reg' : {'X': [], 'y': []},\n",
    "    'eight_step_reg' : {'X': [], 'y': []},\n",
    "    'nine_step_reg' : {'X': [], 'y': []},\n",
    "}\n",
    "\n",
    "for insurance_company in development_triangles:\n",
    "    print(insurance_company)\n",
    "    dt = development_triangles[insurance_company]\n",
    "    for i in range(1, dt.shape[0]):\n",
    "\n",
    "        # if (dt.iloc[i, :(10-i)].unique() == np.array([0]))[0]:\n",
    "        #     continue\n",
    "        \n",
    "        X = np.array(dt.iloc[i, :(10-i)])\n",
    "        y = np.array(dt.iloc[i, (10-i):])\n",
    "\n",
    "        X_y_data[list(X_y_data.keys())[i-1]]['X'].append(X)\n",
    "        X_y_data[list(X_y_data.keys())[i-1]]['y'].append(y)"
   ]
  },
  {
   "cell_type": "code",
   "execution_count": 54,
   "metadata": {},
   "outputs": [
    {
     "name": "stdout",
     "output_type": "stream",
     "text": [
      "one_step_reg\n",
      "Mean RMSE score: 2635.7355119311005\n",
      "two_step_reg\n",
      "Mean RMSE score: 7703.999456666305\n",
      "three_step_reg\n",
      "Mean RMSE score: 6278.017105443386\n",
      "four_step_reg\n",
      "Mean RMSE score: 7602.737099609297\n",
      "five_step_reg\n",
      "Mean RMSE score: 6682.941833426943\n",
      "six_step_reg\n",
      "Mean RMSE score: 7191.441733691856\n",
      "seven_step_reg\n",
      "Mean RMSE score: 9004.744439428965\n",
      "eight_step_reg\n",
      "Mean RMSE score: 7269.959001268027\n",
      "nine_step_reg\n",
      "Mean RMSE score: 8459.531422364438\n"
     ]
    }
   ],
   "source": [
    "from sklearn.model_selection import cross_val_score, KFold\n",
    "\n",
    "cv_scores = {\n",
    "    'one_step_reg' : '',\n",
    "    'two_step_reg' : '',\n",
    "    'three_step_reg' : '',\n",
    "    'four_step_reg' : '',\n",
    "    'five_step_reg' : '',\n",
    "    'six_step_reg' : '',\n",
    "    'seven_step_reg' : '',\n",
    "    'eight_step_reg' : '',\n",
    "    'nine_step_reg' : '',\n",
    "}\n",
    "\n",
    "for step_reg in X_y_data:\n",
    "    print(step_reg)\n",
    "    X, y = X_y_data[step_reg]['X'], X_y_data[step_reg]['y']\n",
    "\n",
    "    # Train a linear regression model using cross-validation\n",
    "    multioutputregressor = MultiOutputRegressor(XGBRegressor())\n",
    "    scores = cross_val_score(multioutputregressor, X, y, cv=KFold(n_splits=5), scoring='neg_mean_squared_error')\n",
    "    rmse_scores = np.sqrt(-scores)\n",
    "    print('Mean RMSE score:', rmse_scores.mean())\n",
    "    cv_scores[step_reg] = rmse_scores.mean()"
   ]
  },
  {
   "cell_type": "code",
   "execution_count": 58,
   "metadata": {},
   "outputs": [],
   "source": [
    "cv_scores_df = pd.DataFrame([cv_scores]).T\n",
    "cv_scores_df.columns = ['rmse_kfold_cv']"
   ]
  },
  {
   "cell_type": "code",
   "execution_count": 59,
   "metadata": {},
   "outputs": [
    {
     "data": {
      "text/html": [
       "<div>\n",
       "<style scoped>\n",
       "    .dataframe tbody tr th:only-of-type {\n",
       "        vertical-align: middle;\n",
       "    }\n",
       "\n",
       "    .dataframe tbody tr th {\n",
       "        vertical-align: top;\n",
       "    }\n",
       "\n",
       "    .dataframe thead th {\n",
       "        text-align: right;\n",
       "    }\n",
       "</style>\n",
       "<table border=\"1\" class=\"dataframe\">\n",
       "  <thead>\n",
       "    <tr style=\"text-align: right;\">\n",
       "      <th></th>\n",
       "      <th>rmse_kfold_cv</th>\n",
       "    </tr>\n",
       "  </thead>\n",
       "  <tbody>\n",
       "    <tr>\n",
       "      <th>one_step_reg</th>\n",
       "      <td>2635.735512</td>\n",
       "    </tr>\n",
       "    <tr>\n",
       "      <th>two_step_reg</th>\n",
       "      <td>7703.999457</td>\n",
       "    </tr>\n",
       "    <tr>\n",
       "      <th>three_step_reg</th>\n",
       "      <td>6278.017105</td>\n",
       "    </tr>\n",
       "    <tr>\n",
       "      <th>four_step_reg</th>\n",
       "      <td>7602.737100</td>\n",
       "    </tr>\n",
       "    <tr>\n",
       "      <th>five_step_reg</th>\n",
       "      <td>6682.941833</td>\n",
       "    </tr>\n",
       "    <tr>\n",
       "      <th>six_step_reg</th>\n",
       "      <td>7191.441734</td>\n",
       "    </tr>\n",
       "    <tr>\n",
       "      <th>seven_step_reg</th>\n",
       "      <td>9004.744439</td>\n",
       "    </tr>\n",
       "    <tr>\n",
       "      <th>eight_step_reg</th>\n",
       "      <td>7269.959001</td>\n",
       "    </tr>\n",
       "    <tr>\n",
       "      <th>nine_step_reg</th>\n",
       "      <td>8459.531422</td>\n",
       "    </tr>\n",
       "  </tbody>\n",
       "</table>\n",
       "</div>"
      ],
      "text/plain": [
       "                rmse_kfold_cv\n",
       "one_step_reg      2635.735512\n",
       "two_step_reg      7703.999457\n",
       "three_step_reg    6278.017105\n",
       "four_step_reg     7602.737100\n",
       "five_step_reg     6682.941833\n",
       "six_step_reg      7191.441734\n",
       "seven_step_reg    9004.744439\n",
       "eight_step_reg    7269.959001\n",
       "nine_step_reg     8459.531422"
      ]
     },
     "execution_count": 59,
     "metadata": {},
     "output_type": "execute_result"
    }
   ],
   "source": [
    "cv_scores_df"
   ]
  },
  {
   "cell_type": "code",
   "execution_count": null,
   "metadata": {},
   "outputs": [],
   "source": []
  }
 ],
 "metadata": {
  "kernelspec": {
   "display_name": "unal",
   "language": "python",
   "name": "python3"
  },
  "language_info": {
   "codemirror_mode": {
    "name": "ipython",
    "version": 3
   },
   "file_extension": ".py",
   "mimetype": "text/x-python",
   "name": "python",
   "nbconvert_exporter": "python",
   "pygments_lexer": "ipython3",
   "version": "3.10.13"
  },
  "orig_nbformat": 4
 },
 "nbformat": 4,
 "nbformat_minor": 2
}
