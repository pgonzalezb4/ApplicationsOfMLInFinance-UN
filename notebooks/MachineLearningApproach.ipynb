{
 "cells": [
  {
   "cell_type": "code",
   "execution_count": null,
   "metadata": {},
   "outputs": [],
   "source": [
    "import numpy as np\n",
    "import pandas as pd\n",
    "\n",
    "from xgboost import XGBRegressor\n",
    "from sklearn.multioutput import MultiOutputRegressor\n",
    "from sklearn.metrics import mean_absolute_percentage_error as mape"
   ]
  },
  {
   "cell_type": "code",
   "execution_count": null,
   "metadata": {},
   "outputs": [],
   "source": [
    "data = pd.read_csv('medmal_pos.csv')\n",
    "data.shape"
   ]
  },
  {
   "cell_type": "code",
   "execution_count": null,
   "metadata": {},
   "outputs": [],
   "source": [
    "insurances = data.GRNAME.unique()\n",
    "\n",
    "test_insurances = ['Dentists Ins Co', 'Physicians Recip Insurers', 'Louisiana Med Mut Ins Co', 'Clinic Mut Ins Co RRG', 'California Healthcare Ins Co Inc']\n",
    "train_insurances = [insurance for insurance in insurances if insurance not in test_insurances]"
   ]
  },
  {
   "cell_type": "code",
   "execution_count": null,
   "metadata": {},
   "outputs": [],
   "source": [
    "development_triangles = {}\n",
    "\n",
    "for insurance_company in insurances:\n",
    "    insurance_company_filtered_data = data[data.GRNAME == insurance_company].copy()\n",
    "\n",
    "    temp_data = []\n",
    "    n_of_accident_year = 0\n",
    "    for accident_year in insurance_company_filtered_data.AccidentYear.unique():\n",
    "        year_filtered_df = insurance_company_filtered_data[insurance_company_filtered_data.AccidentYear == accident_year].copy()\n",
    "        row_df = year_filtered_df[['IncurLoss_F2']].iloc[:].T\n",
    "        row_df.columns = [f'lag_{k}' for k in list(range(1, row_df.shape[1] + 1))]\n",
    "        row_df.index = [accident_year]\n",
    "        temp_data.append(row_df)\n",
    "        n_of_accident_year += 1\n",
    "\n",
    "    development_triangles[insurance_company] = pd.concat(temp_data)"
   ]
  },
  {
   "cell_type": "code",
   "execution_count": null,
   "metadata": {},
   "outputs": [],
   "source": [
    "X_y_data = {\n",
    "    'one_step_reg' : {'X': [], 'y': []},\n",
    "    'two_step_reg' : {'X': [], 'y': []},\n",
    "    'three_step_reg' : {'X': [], 'y': []},\n",
    "    'four_step_reg' : {'X': [], 'y': []},\n",
    "    'five_step_reg' : {'X': [], 'y': []},\n",
    "    'six_step_reg' : {'X': [], 'y': []},\n",
    "    'seven_step_reg' : {'X': [], 'y': []},\n",
    "    'eight_step_reg' : {'X': [], 'y': []},\n",
    "    'nine_step_reg' : {'X': [], 'y': []},\n",
    "}\n",
    "\n",
    "for insurance_company in development_triangles:\n",
    "    dt = development_triangles[insurance_company]\n",
    "    for i in range(1, dt.shape[0]):\n",
    "\n",
    "        # if (dt.iloc[i, :(10-i)].unique() == np.array([0]))[0]:\n",
    "        #     continue\n",
    "        \n",
    "        X = np.array(dt.iloc[i, :(10-i)])\n",
    "        y = np.array(dt.iloc[i, (10-i):])\n",
    "\n",
    "        X_y_data[list(X_y_data.keys())[i-1]]['X'].append(X)\n",
    "        X_y_data[list(X_y_data.keys())[i-1]]['y'].append(y)"
   ]
  },
  {
   "cell_type": "code",
   "execution_count": null,
   "metadata": {},
   "outputs": [],
   "source": [
    "from sklearn.model_selection import cross_val_score, KFold\n",
    "\n",
    "cv_scores = {\n",
    "    'one_step_reg' : '',\n",
    "    'two_step_reg' : '',\n",
    "    'three_step_reg' : '',\n",
    "    'four_step_reg' : '',\n",
    "    'five_step_reg' : '',\n",
    "    'six_step_reg' : '',\n",
    "    'seven_step_reg' : '',\n",
    "    'eight_step_reg' : '',\n",
    "    'nine_step_reg' : '',\n",
    "}\n",
    "\n",
    "for step_reg in X_y_data:\n",
    "    print(step_reg)\n",
    "    X, y = X_y_data[step_reg]['X'], X_y_data[step_reg]['y']\n",
    "\n",
    "    # Train a linear regression model using cross-validation\n",
    "    multioutputregressor = MultiOutputRegressor(XGBRegressor())\n",
    "    scores = cross_val_score(multioutputregressor, X, y, cv=KFold(n_splits=5), scoring='neg_mean_squared_error')\n",
    "    rmse_scores = np.sqrt(-scores)\n",
    "    print('Mean RMSE score:', rmse_scores.mean())\n",
    "    cv_scores[step_reg] = rmse_scores.mean()"
   ]
  },
  {
   "cell_type": "code",
   "execution_count": null,
   "metadata": {},
   "outputs": [],
   "source": [
    "cv_scores_df = pd.DataFrame([cv_scores]).T\n",
    "cv_scores_df.columns = ['rmse_kfold_cv']"
   ]
  },
  {
   "cell_type": "code",
   "execution_count": null,
   "metadata": {},
   "outputs": [],
   "source": [
    "cv_scores_df"
   ]
  },
  {
   "cell_type": "code",
   "execution_count": null,
   "metadata": {},
   "outputs": [],
   "source": []
  }
 ],
 "metadata": {
  "kernelspec": {
   "display_name": "unal",
   "language": "python",
   "name": "python3"
  },
  "language_info": {
   "codemirror_mode": {
    "name": "ipython",
    "version": 3
   },
   "file_extension": ".py",
   "mimetype": "text/x-python",
   "name": "python",
   "nbconvert_exporter": "python",
   "pygments_lexer": "ipython3",
   "version": "3.10.13"
  },
  "orig_nbformat": 4
 },
 "nbformat": 4,
 "nbformat_minor": 2
}
